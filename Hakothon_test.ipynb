{
  "nbformat": 4,
  "nbformat_minor": 0,
  "metadata": {
    "colab": {
      "provenance": [],
      "authorship_tag": "ABX9TyO/lmX+mq0dlLGpSKqZFyNR",
      "include_colab_link": true
    },
    "kernelspec": {
      "name": "python3",
      "display_name": "Python 3"
    },
    "language_info": {
      "name": "python"
    }
  },
  "cells": [
    {
      "cell_type": "markdown",
      "metadata": {
        "id": "view-in-github",
        "colab_type": "text"
      },
      "source": [
        "<a href=\"https://colab.research.google.com/github/Malliwari570/FMML-LABS/blob/main/Hakothon_test.ipynb\" target=\"_parent\"><img src=\"https://colab.research.google.com/assets/colab-badge.svg\" alt=\"Open In Colab\"/></a>"
      ]
    },
    {
      "cell_type": "code",
      "execution_count": null,
      "metadata": {
        "colab": {
          "base_uri": "https://localhost:8080/"
        },
        "id": "WLK0wb7sdmio",
        "outputId": "821af979-ceb5-4a29-9b6e-64c1e9800ae2"
      },
      "outputs": [
        {
          "output_type": "stream",
          "name": "stdout",
          "text": [
            "[10, 30, 50]\n"
          ]
        }
      ],
      "source": [
        "L=[10,20,30,40,50]\n",
        "a=L[0:5:2]\n",
        "print(a)"
      ]
    },
    {
      "cell_type": "code",
      "source": [],
      "metadata": {
        "id": "BWHsG-8sfPuO"
      },
      "execution_count": null,
      "outputs": []
    },
    {
      "cell_type": "code",
      "source": [
        "n=7\n",
        "numbersquare=n * n\n",
        "print(numbersquare )"
      ],
      "metadata": {
        "colab": {
          "base_uri": "https://localhost:8080/"
        },
        "id": "nSVyS8mHrBBS",
        "outputId": "c7915a85-bf71-43d5-d722-c5ec2eaaa5e2"
      },
      "execution_count": null,
      "outputs": [
        {
          "output_type": "stream",
          "name": "stdout",
          "text": [
            "49\n"
          ]
        }
      ]
    },
    {
      "cell_type": "markdown",
      "source": [
        "a = \"apple\"\n",
        "for i in a:"
      ],
      "metadata": {
        "id": "4WuiG_R5Ie6R"
      }
    },
    {
      "cell_type": "code",
      "source": [
        "a=\"apple\"\n",
        "count=0\n",
        "for i in a:\n",
        " if i=='p':\n",
        "    count +=1\n",
        "print(count)"
      ],
      "metadata": {
        "colab": {
          "base_uri": "https://localhost:8080/"
        },
        "id": "IK6Qd3-TDHCq",
        "outputId": "635c6ee5-4acb-40a0-ea07-c1b1be789092"
      },
      "execution_count": null,
      "outputs": [
        {
          "output_type": "stream",
          "name": "stdout",
          "text": [
            "2\n"
          ]
        }
      ]
    },
    {
      "cell_type": "code",
      "source": [
        "a=[0,1,2,3,4,5,6,7,8,9,10]\n",
        "for i in a:\n",
        "   print(i,end=\"\")"
      ],
      "metadata": {
        "colab": {
          "base_uri": "https://localhost:8080/"
        },
        "id": "qIS80yP7KHQn",
        "outputId": "c5342b52-3ba0-4ab2-aa79-fab628927fdf"
      },
      "execution_count": null,
      "outputs": [
        {
          "output_type": "stream",
          "name": "stdout",
          "text": [
            "012345678910"
          ]
        }
      ]
    },
    {
      "cell_type": "code",
      "source": [
        "a=\"python\"\n",
        "for i in a:\n",
        "    if i=='t':\n",
        "     print(i)"
      ],
      "metadata": {
        "colab": {
          "base_uri": "https://localhost:8080/"
        },
        "id": "r_h05t4dKk4B",
        "outputId": "cf72f9a8-9778-46d3-9e07-5cf4e1dcb088"
      },
      "execution_count": null,
      "outputs": [
        {
          "output_type": "stream",
          "name": "stdout",
          "text": [
            "t\n"
          ]
        }
      ]
    },
    {
      "cell_type": "code",
      "source": [
        "\n",
        "\n",
        "\n",
        "\n",
        "\n",
        "\n",
        "a=list(map(int,input().split()))\n",
        "for i in a:\n",
        "   print (i,end=\"\")"
      ],
      "metadata": {
        "colab": {
          "base_uri": "https://localhost:8080/"
        },
        "id": "6aE7ZoYnLWIv",
        "outputId": "372ff0a5-7019-4d7b-99f4-03788b013618"
      },
      "execution_count": null,
      "outputs": [
        {
          "output_type": "stream",
          "name": "stdout",
          "text": [
            "1 2 3 4 5 \n",
            "12345"
          ]
        }
      ]
    },
    {
      "cell_type": "code",
      "source": [
        "Whn=int(input())\n",
        "if(n>=41 and n<=45):\n",
        "  print(\"A\")\n",
        "elif(n>=36 and n<40):\n",
        "  print(\"B\")\n",
        "elif(n>=31 and n<=35):\n",
        "  print(\"C\")\n",
        "elif(n>=0 and n<=30):\n",
        "  print(\"D\")\n",
        "else:\n",
        "  Print(\"invalid\")"
      ],
      "metadata": {
        "colab": {
          "base_uri": "https://localhost:8080/"
        },
        "id": "CX-Tk0QHPOR_",
        "outputId": "923db9b9-8f22-40f2-b0ed-d2149832e701"
      },
      "execution_count": null,
      "outputs": [
        {
          "output_type": "stream",
          "name": "stdout",
          "text": [
            "42\n",
            "A\n"
          ]
        }
      ]
    },
    {
      "cell_type": "code",
      "source": [
        "n=21\n",
        "n=int(input())\n",
        "temp =n\n",
        "sum =0\n",
        "while n>0:\n",
        "  rem=n%10\n",
        "  sum=sum+rem\n",
        "  n=n//10\n",
        "if temp% sum==0:\n",
        "  print(\"Harshad\")\n",
        "else:\n",
        "  print (\"not\")"
      ],
      "metadata": {
        "id": "IPWDdgOvNUq_",
        "colab": {
          "base_uri": "https://localhost:8080/"
        },
        "outputId": "f02d52b9-0d90-463c-a747-0cda840b5bad"
      },
      "execution_count": 4,
      "outputs": [
        {
          "output_type": "stream",
          "name": "stdout",
          "text": [
            "11\n",
            "not\n"
          ]
        }
      ]
    }
  ]
}